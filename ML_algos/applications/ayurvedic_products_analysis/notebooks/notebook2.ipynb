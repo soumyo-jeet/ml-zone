{
 "cells": [
  {
   "cell_type": "markdown",
   "id": "cbf46ea0",
   "metadata": {},
   "source": [
    "## ***Data Preprocessing***"
   ]
  },
  {
   "cell_type": "code",
   "execution_count": 182,
   "id": "81bcef16",
   "metadata": {},
   "outputs": [],
   "source": [
    "import pandas as pd\n",
    "import numpy as np\n",
    "from sklearn.model_selection import train_test_split, StratifiedShuffleSplit\n",
    "import matplotlib.pyplot as plt"
   ]
  },
  {
   "cell_type": "code",
   "execution_count": 183,
   "id": "7fcefcb3",
   "metadata": {},
   "outputs": [
    {
     "data": {
      "text/html": [
       "<div>\n",
       "<style scoped>\n",
       "    .dataframe tbody tr th:only-of-type {\n",
       "        vertical-align: middle;\n",
       "    }\n",
       "\n",
       "    .dataframe tbody tr th {\n",
       "        vertical-align: top;\n",
       "    }\n",
       "\n",
       "    .dataframe thead th {\n",
       "        text-align: right;\n",
       "    }\n",
       "</style>\n",
       "<table border=\"1\" class=\"dataframe\">\n",
       "  <thead>\n",
       "    <tr style=\"text-align: right;\">\n",
       "      <th></th>\n",
       "      <th>Product_ID</th>\n",
       "      <th>Product_Name</th>\n",
       "      <th>Form</th>\n",
       "      <th>Ashwagandha</th>\n",
       "      <th>Triphala</th>\n",
       "      <th>Amalaki</th>\n",
       "      <th>Haritaki</th>\n",
       "      <th>Bibhitaki</th>\n",
       "      <th>Neem</th>\n",
       "      <th>Tulsi</th>\n",
       "      <th>...</th>\n",
       "      <th>KaunchBeej</th>\n",
       "      <th>Palash</th>\n",
       "      <th>Agarwood</th>\n",
       "      <th>Chitrak</th>\n",
       "      <th>Proportion_Others</th>\n",
       "      <th>Price</th>\n",
       "      <th>Dosage(g)</th>\n",
       "      <th>Shelf_Life(months)</th>\n",
       "      <th>Preparation_Method</th>\n",
       "      <th>Speciality</th>\n",
       "    </tr>\n",
       "  </thead>\n",
       "  <tbody>\n",
       "    <tr>\n",
       "      <th>0</th>\n",
       "      <td>P0001</td>\n",
       "      <td>Product_1</td>\n",
       "      <td>Decoction</td>\n",
       "      <td>0.02</td>\n",
       "      <td>0.01</td>\n",
       "      <td>0.04</td>\n",
       "      <td>0.00</td>\n",
       "      <td>0.00</td>\n",
       "      <td>0.01</td>\n",
       "      <td>0.01</td>\n",
       "      <td>...</td>\n",
       "      <td>0.00</td>\n",
       "      <td>0.00</td>\n",
       "      <td>0.02</td>\n",
       "      <td>0.00</td>\n",
       "      <td>0.13</td>\n",
       "      <td>679</td>\n",
       "      <td>0.44</td>\n",
       "      <td>12</td>\n",
       "      <td>Fermentation</td>\n",
       "      <td>Weight Loss</td>\n",
       "    </tr>\n",
       "    <tr>\n",
       "      <th>1</th>\n",
       "      <td>P0002</td>\n",
       "      <td>Product_2</td>\n",
       "      <td>Tablet</td>\n",
       "      <td>0.02</td>\n",
       "      <td>0.02</td>\n",
       "      <td>0.02</td>\n",
       "      <td>0.02</td>\n",
       "      <td>0.01</td>\n",
       "      <td>0.01</td>\n",
       "      <td>0.03</td>\n",
       "      <td>...</td>\n",
       "      <td>0.03</td>\n",
       "      <td>0.01</td>\n",
       "      <td>0.01</td>\n",
       "      <td>0.01</td>\n",
       "      <td>0.12</td>\n",
       "      <td>679</td>\n",
       "      <td>0.27</td>\n",
       "      <td>36</td>\n",
       "      <td>Extract</td>\n",
       "      <td>Weight Loss</td>\n",
       "    </tr>\n",
       "    <tr>\n",
       "      <th>2</th>\n",
       "      <td>P0003</td>\n",
       "      <td>Product_3</td>\n",
       "      <td>Decoction</td>\n",
       "      <td>0.00</td>\n",
       "      <td>0.04</td>\n",
       "      <td>0.02</td>\n",
       "      <td>0.02</td>\n",
       "      <td>0.01</td>\n",
       "      <td>0.02</td>\n",
       "      <td>0.02</td>\n",
       "      <td>...</td>\n",
       "      <td>0.01</td>\n",
       "      <td>0.00</td>\n",
       "      <td>0.00</td>\n",
       "      <td>0.04</td>\n",
       "      <td>0.10</td>\n",
       "      <td>958</td>\n",
       "      <td>0.40</td>\n",
       "      <td>36</td>\n",
       "      <td>TabletCompression</td>\n",
       "      <td>Diabetes Management</td>\n",
       "    </tr>\n",
       "    <tr>\n",
       "      <th>3</th>\n",
       "      <td>P0004</td>\n",
       "      <td>Product_4</td>\n",
       "      <td>Powder</td>\n",
       "      <td>0.01</td>\n",
       "      <td>0.00</td>\n",
       "      <td>0.01</td>\n",
       "      <td>0.02</td>\n",
       "      <td>0.01</td>\n",
       "      <td>0.03</td>\n",
       "      <td>0.01</td>\n",
       "      <td>...</td>\n",
       "      <td>0.03</td>\n",
       "      <td>0.02</td>\n",
       "      <td>0.00</td>\n",
       "      <td>0.02</td>\n",
       "      <td>0.09</td>\n",
       "      <td>963</td>\n",
       "      <td>0.29</td>\n",
       "      <td>36</td>\n",
       "      <td>PowderBlend</td>\n",
       "      <td>Joint Pain Relief</td>\n",
       "    </tr>\n",
       "    <tr>\n",
       "      <th>4</th>\n",
       "      <td>P0005</td>\n",
       "      <td>Product_5</td>\n",
       "      <td>Powder</td>\n",
       "      <td>0.03</td>\n",
       "      <td>0.00</td>\n",
       "      <td>0.03</td>\n",
       "      <td>0.03</td>\n",
       "      <td>0.00</td>\n",
       "      <td>0.01</td>\n",
       "      <td>0.02</td>\n",
       "      <td>...</td>\n",
       "      <td>0.04</td>\n",
       "      <td>0.00</td>\n",
       "      <td>0.00</td>\n",
       "      <td>0.02</td>\n",
       "      <td>0.08</td>\n",
       "      <td>551</td>\n",
       "      <td>0.51</td>\n",
       "      <td>24</td>\n",
       "      <td>Decoction</td>\n",
       "      <td>Cardiac Health</td>\n",
       "    </tr>\n",
       "    <tr>\n",
       "      <th>...</th>\n",
       "      <td>...</td>\n",
       "      <td>...</td>\n",
       "      <td>...</td>\n",
       "      <td>...</td>\n",
       "      <td>...</td>\n",
       "      <td>...</td>\n",
       "      <td>...</td>\n",
       "      <td>...</td>\n",
       "      <td>...</td>\n",
       "      <td>...</td>\n",
       "      <td>...</td>\n",
       "      <td>...</td>\n",
       "      <td>...</td>\n",
       "      <td>...</td>\n",
       "      <td>...</td>\n",
       "      <td>...</td>\n",
       "      <td>...</td>\n",
       "      <td>...</td>\n",
       "      <td>...</td>\n",
       "      <td>...</td>\n",
       "      <td>...</td>\n",
       "    </tr>\n",
       "    <tr>\n",
       "      <th>995</th>\n",
       "      <td>P0996</td>\n",
       "      <td>Product_996</td>\n",
       "      <td>Powder</td>\n",
       "      <td>0.03</td>\n",
       "      <td>0.03</td>\n",
       "      <td>0.02</td>\n",
       "      <td>0.03</td>\n",
       "      <td>0.03</td>\n",
       "      <td>0.01</td>\n",
       "      <td>0.02</td>\n",
       "      <td>...</td>\n",
       "      <td>0.01</td>\n",
       "      <td>0.03</td>\n",
       "      <td>0.01</td>\n",
       "      <td>0.01</td>\n",
       "      <td>0.10</td>\n",
       "      <td>524</td>\n",
       "      <td>0.27</td>\n",
       "      <td>36</td>\n",
       "      <td>Extract</td>\n",
       "      <td>Joint Pain Relief</td>\n",
       "    </tr>\n",
       "    <tr>\n",
       "      <th>996</th>\n",
       "      <td>P0997</td>\n",
       "      <td>Product_997</td>\n",
       "      <td>Capsule</td>\n",
       "      <td>0.02</td>\n",
       "      <td>0.01</td>\n",
       "      <td>0.01</td>\n",
       "      <td>0.03</td>\n",
       "      <td>0.04</td>\n",
       "      <td>0.03</td>\n",
       "      <td>0.03</td>\n",
       "      <td>...</td>\n",
       "      <td>0.01</td>\n",
       "      <td>0.02</td>\n",
       "      <td>0.03</td>\n",
       "      <td>0.00</td>\n",
       "      <td>0.06</td>\n",
       "      <td>107</td>\n",
       "      <td>0.51</td>\n",
       "      <td>36</td>\n",
       "      <td>Fermentation</td>\n",
       "      <td>Kidney Care</td>\n",
       "    </tr>\n",
       "    <tr>\n",
       "      <th>997</th>\n",
       "      <td>P0998</td>\n",
       "      <td>Product_998</td>\n",
       "      <td>Paste</td>\n",
       "      <td>0.02</td>\n",
       "      <td>0.02</td>\n",
       "      <td>0.03</td>\n",
       "      <td>0.02</td>\n",
       "      <td>0.00</td>\n",
       "      <td>0.00</td>\n",
       "      <td>0.03</td>\n",
       "      <td>...</td>\n",
       "      <td>0.02</td>\n",
       "      <td>0.02</td>\n",
       "      <td>0.02</td>\n",
       "      <td>0.00</td>\n",
       "      <td>0.12</td>\n",
       "      <td>775</td>\n",
       "      <td>0.54</td>\n",
       "      <td>18</td>\n",
       "      <td>Extract</td>\n",
       "      <td>Respiratory Health</td>\n",
       "    </tr>\n",
       "    <tr>\n",
       "      <th>998</th>\n",
       "      <td>P0999</td>\n",
       "      <td>Product_999</td>\n",
       "      <td>Tablet</td>\n",
       "      <td>0.02</td>\n",
       "      <td>0.00</td>\n",
       "      <td>0.01</td>\n",
       "      <td>0.03</td>\n",
       "      <td>0.02</td>\n",
       "      <td>0.03</td>\n",
       "      <td>0.01</td>\n",
       "      <td>...</td>\n",
       "      <td>0.01</td>\n",
       "      <td>0.01</td>\n",
       "      <td>0.02</td>\n",
       "      <td>0.03</td>\n",
       "      <td>0.08</td>\n",
       "      <td>761</td>\n",
       "      <td>0.56</td>\n",
       "      <td>18</td>\n",
       "      <td>PowderBlend</td>\n",
       "      <td>Skin Disorders</td>\n",
       "    </tr>\n",
       "    <tr>\n",
       "      <th>999</th>\n",
       "      <td>P1000</td>\n",
       "      <td>Product_1000</td>\n",
       "      <td>Tablet</td>\n",
       "      <td>0.02</td>\n",
       "      <td>0.02</td>\n",
       "      <td>0.01</td>\n",
       "      <td>0.02</td>\n",
       "      <td>0.01</td>\n",
       "      <td>0.01</td>\n",
       "      <td>0.03</td>\n",
       "      <td>...</td>\n",
       "      <td>0.02</td>\n",
       "      <td>0.01</td>\n",
       "      <td>0.01</td>\n",
       "      <td>0.02</td>\n",
       "      <td>0.12</td>\n",
       "      <td>322</td>\n",
       "      <td>0.51</td>\n",
       "      <td>36</td>\n",
       "      <td>Decoction</td>\n",
       "      <td>Digestive Cleanser</td>\n",
       "    </tr>\n",
       "  </tbody>\n",
       "</table>\n",
       "<p>1000 rows × 59 columns</p>\n",
       "</div>"
      ],
      "text/plain": [
       "    Product_ID  Product_Name       Form  Ashwagandha  Triphala  Amalaki  \\\n",
       "0        P0001     Product_1  Decoction         0.02      0.01     0.04   \n",
       "1        P0002     Product_2     Tablet         0.02      0.02     0.02   \n",
       "2        P0003     Product_3  Decoction         0.00      0.04     0.02   \n",
       "3        P0004     Product_4     Powder         0.01      0.00     0.01   \n",
       "4        P0005     Product_5     Powder         0.03      0.00     0.03   \n",
       "..         ...           ...        ...          ...       ...      ...   \n",
       "995      P0996   Product_996     Powder         0.03      0.03     0.02   \n",
       "996      P0997   Product_997    Capsule         0.02      0.01     0.01   \n",
       "997      P0998   Product_998      Paste         0.02      0.02     0.03   \n",
       "998      P0999   Product_999     Tablet         0.02      0.00     0.01   \n",
       "999      P1000  Product_1000     Tablet         0.02      0.02     0.01   \n",
       "\n",
       "     Haritaki  Bibhitaki  Neem  Tulsi  ...  KaunchBeej  Palash  Agarwood  \\\n",
       "0        0.00       0.00  0.01   0.01  ...        0.00    0.00      0.02   \n",
       "1        0.02       0.01  0.01   0.03  ...        0.03    0.01      0.01   \n",
       "2        0.02       0.01  0.02   0.02  ...        0.01    0.00      0.00   \n",
       "3        0.02       0.01  0.03   0.01  ...        0.03    0.02      0.00   \n",
       "4        0.03       0.00  0.01   0.02  ...        0.04    0.00      0.00   \n",
       "..        ...        ...   ...    ...  ...         ...     ...       ...   \n",
       "995      0.03       0.03  0.01   0.02  ...        0.01    0.03      0.01   \n",
       "996      0.03       0.04  0.03   0.03  ...        0.01    0.02      0.03   \n",
       "997      0.02       0.00  0.00   0.03  ...        0.02    0.02      0.02   \n",
       "998      0.03       0.02  0.03   0.01  ...        0.01    0.01      0.02   \n",
       "999      0.02       0.01  0.01   0.03  ...        0.02    0.01      0.01   \n",
       "\n",
       "     Chitrak  Proportion_Others  Price  Dosage(g)  Shelf_Life(months)  \\\n",
       "0       0.00               0.13    679       0.44                  12   \n",
       "1       0.01               0.12    679       0.27                  36   \n",
       "2       0.04               0.10    958       0.40                  36   \n",
       "3       0.02               0.09    963       0.29                  36   \n",
       "4       0.02               0.08    551       0.51                  24   \n",
       "..       ...                ...    ...        ...                 ...   \n",
       "995     0.01               0.10    524       0.27                  36   \n",
       "996     0.00               0.06    107       0.51                  36   \n",
       "997     0.00               0.12    775       0.54                  18   \n",
       "998     0.03               0.08    761       0.56                  18   \n",
       "999     0.02               0.12    322       0.51                  36   \n",
       "\n",
       "     Preparation_Method           Speciality  \n",
       "0          Fermentation          Weight Loss  \n",
       "1               Extract          Weight Loss  \n",
       "2     TabletCompression  Diabetes Management  \n",
       "3           PowderBlend    Joint Pain Relief  \n",
       "4             Decoction       Cardiac Health  \n",
       "..                  ...                  ...  \n",
       "995             Extract    Joint Pain Relief  \n",
       "996        Fermentation          Kidney Care  \n",
       "997             Extract   Respiratory Health  \n",
       "998         PowderBlend       Skin Disorders  \n",
       "999           Decoction   Digestive Cleanser  \n",
       "\n",
       "[1000 rows x 59 columns]"
      ]
     },
     "execution_count": 183,
     "metadata": {},
     "output_type": "execute_result"
    }
   ],
   "source": [
    "data = pd.read_csv('../data/ayurvedic_products_1.csv')\n",
    "data"
   ]
  },
  {
   "cell_type": "code",
   "execution_count": 184,
   "id": "2bf6c339",
   "metadata": {},
   "outputs": [],
   "source": [
    "# Frequently used functions\n",
    "def map_txts (data):\n",
    "    data[\"Form\"].replace(\n",
    "        ['Decoction', 'Tablet', 'Powder', 'Paste', 'Syrup', 'Capsule'], \n",
    "        [0, 1, 2, 3, 4, 5], \n",
    "        inplace=True\n",
    "    )\n",
    "    data[\"Preparation_Method\"].replace(\n",
    "        ['Fermentation', 'Extract', 'TabletCompression', 'PowderBlend','Decoction'], \n",
    "        [0, 1, 2, 3, 4], \n",
    "        inplace=True\n",
    "    )\n",
    "\n",
    "def split_dataset (data):\n",
    "    splitter = StratifiedShuffleSplit(test_size=0.2, random_state=42)\n",
    "    for train_idx, test_idx in splitter.split(data, data[\"Speciality\"]):\n",
    "        train_data = data.iloc[train_idx]\n",
    "        test_data = data.iloc[test_idx]\n",
    "\n",
    "    return train_data, test_data\n",
    "    "
   ]
  },
  {
   "cell_type": "code",
   "execution_count": 185,
   "id": "f759a210",
   "metadata": {},
   "outputs": [],
   "source": [
    "# Clearing dataset\n",
    "data.drop(['Product_ID', 'Product_Name'], axis=1, inplace=True)"
   ]
  },
  {
   "cell_type": "code",
   "execution_count": 186,
   "id": "1d52d96d",
   "metadata": {},
   "outputs": [
    {
     "name": "stderr",
     "output_type": "stream",
     "text": [
      "C:\\Users\\SOUMYOJEET\\AppData\\Local\\Temp\\ipykernel_16776\\1472913152.py:3: FutureWarning: A value is trying to be set on a copy of a DataFrame or Series through chained assignment using an inplace method.\n",
      "The behavior will change in pandas 3.0. This inplace method will never work because the intermediate object on which we are setting values always behaves as a copy.\n",
      "\n",
      "For example, when doing 'df[col].method(value, inplace=True)', try using 'df.method({col: value}, inplace=True)' or df[col] = df[col].method(value) instead, to perform the operation inplace on the original object.\n",
      "\n",
      "\n",
      "  data[\"Form\"].replace(\n",
      "C:\\Users\\SOUMYOJEET\\AppData\\Local\\Temp\\ipykernel_16776\\1472913152.py:3: FutureWarning: Downcasting behavior in `replace` is deprecated and will be removed in a future version. To retain the old behavior, explicitly call `result.infer_objects(copy=False)`. To opt-in to the future behavior, set `pd.set_option('future.no_silent_downcasting', True)`\n",
      "  data[\"Form\"].replace(\n",
      "C:\\Users\\SOUMYOJEET\\AppData\\Local\\Temp\\ipykernel_16776\\1472913152.py:8: FutureWarning: A value is trying to be set on a copy of a DataFrame or Series through chained assignment using an inplace method.\n",
      "The behavior will change in pandas 3.0. This inplace method will never work because the intermediate object on which we are setting values always behaves as a copy.\n",
      "\n",
      "For example, when doing 'df[col].method(value, inplace=True)', try using 'df.method({col: value}, inplace=True)' or df[col] = df[col].method(value) instead, to perform the operation inplace on the original object.\n",
      "\n",
      "\n",
      "  data[\"Preparation_Method\"].replace(\n",
      "C:\\Users\\SOUMYOJEET\\AppData\\Local\\Temp\\ipykernel_16776\\1472913152.py:8: FutureWarning: Downcasting behavior in `replace` is deprecated and will be removed in a future version. To retain the old behavior, explicitly call `result.infer_objects(copy=False)`. To opt-in to the future behavior, set `pd.set_option('future.no_silent_downcasting', True)`\n",
      "  data[\"Preparation_Method\"].replace(\n"
     ]
    }
   ],
   "source": [
    "map_txts(data)"
   ]
  },
  {
   "cell_type": "code",
   "execution_count": 187,
   "id": "00731a51",
   "metadata": {},
   "outputs": [
    {
     "data": {
      "text/plain": [
       "(array(['Weight Loss', 'Diabetes Management', 'Joint Pain Relief',\n",
       "        'Cardiac Health', 'Immunity Booster', 'Respiratory Health',\n",
       "        'Memory & Cognition', 'Stress & Anxiety', 'Digestive Cleanser',\n",
       "        \"Women's Health\", 'Kidney Care', 'Hair & Scalp Care',\n",
       "        'Skin Disorders', 'Liver Detox', 'Anti-Inflammatory'], dtype=object),\n",
       " 15)"
      ]
     },
     "execution_count": 187,
     "metadata": {},
     "output_type": "execute_result"
    }
   ],
   "source": [
    "data[\"Speciality\"].unique(), data[\"Speciality\"].nunique()"
   ]
  },
  {
   "cell_type": "code",
   "execution_count": 188,
   "id": "1f602f0d",
   "metadata": {},
   "outputs": [
    {
     "data": {
      "text/plain": [
       "count                    1000\n",
       "unique                     15\n",
       "top       Diabetes Management\n",
       "freq                       88\n",
       "Name: Speciality, dtype: object"
      ]
     },
     "execution_count": 188,
     "metadata": {},
     "output_type": "execute_result"
    }
   ],
   "source": [
    "data[\"Speciality\"].describe()"
   ]
  },
  {
   "cell_type": "code",
   "execution_count": 189,
   "id": "eb19fd45",
   "metadata": {},
   "outputs": [
    {
     "data": {
      "text/plain": [
       "Speciality\n",
       "Diabetes Management    88\n",
       "Hair & Scalp Care      83\n",
       "Immunity Booster       82\n",
       "Cardiac Health         72\n",
       "Memory & Cognition     70\n",
       "Stress & Anxiety       67\n",
       "Weight Loss            67\n",
       "Respiratory Health     65\n",
       "Joint Pain Relief      65\n",
       "Skin Disorders         65\n",
       "Kidney Care            65\n",
       "Liver Detox            54\n",
       "Digestive Cleanser     54\n",
       "Anti-Inflammatory      52\n",
       "Women's Health         51\n",
       "Name: count, dtype: int64"
      ]
     },
     "execution_count": 189,
     "metadata": {},
     "output_type": "execute_result"
    }
   ],
   "source": [
    "data[\"Speciality\"].value_counts()"
   ]
  },
  {
   "cell_type": "code",
   "execution_count": 190,
   "id": "ef0fafe6",
   "metadata": {},
   "outputs": [
    {
     "data": {
      "text/plain": [
       "Form\n",
       "3    183\n",
       "1    167\n",
       "0    166\n",
       "4    166\n",
       "5    161\n",
       "2    157\n",
       "Name: count, dtype: int64"
      ]
     },
     "execution_count": 190,
     "metadata": {},
     "output_type": "execute_result"
    }
   ],
   "source": [
    "data[\"Form\"].value_counts()"
   ]
  },
  {
   "cell_type": "code",
   "execution_count": 191,
   "id": "c01f796e",
   "metadata": {},
   "outputs": [
    {
     "data": {
      "text/plain": [
       "Preparation_Method\n",
       "3    210\n",
       "2    204\n",
       "0    201\n",
       "1    199\n",
       "4    186\n",
       "Name: count, dtype: int64"
      ]
     },
     "execution_count": 191,
     "metadata": {},
     "output_type": "execute_result"
    }
   ],
   "source": [
    "data[\"Preparation_Method\"].value_counts()"
   ]
  },
  {
   "cell_type": "markdown",
   "id": "d4b25657",
   "metadata": {},
   "source": [
    "> *From above analysis we can say that the dataset has to be stratifiedly splited to train and test on the basis of the \"Speciality\" feild*"
   ]
  },
  {
   "cell_type": "code",
   "execution_count": 192,
   "id": "d438d689",
   "metadata": {},
   "outputs": [
    {
     "data": {
      "text/plain": [
       "((800, 57), (200, 57))"
      ]
     },
     "execution_count": 192,
     "metadata": {},
     "output_type": "execute_result"
    }
   ],
   "source": [
    "train_data, test_data = split_dataset(data)\n",
    "train_data.shape, test_data.shape"
   ]
  },
  {
   "cell_type": "code",
   "execution_count": 193,
   "id": "656c9669",
   "metadata": {},
   "outputs": [
    {
     "data": {
      "text/html": [
       "<div>\n",
       "<style scoped>\n",
       "    .dataframe tbody tr th:only-of-type {\n",
       "        vertical-align: middle;\n",
       "    }\n",
       "\n",
       "    .dataframe tbody tr th {\n",
       "        vertical-align: top;\n",
       "    }\n",
       "\n",
       "    .dataframe thead th {\n",
       "        text-align: right;\n",
       "    }\n",
       "</style>\n",
       "<table border=\"1\" class=\"dataframe\">\n",
       "  <thead>\n",
       "    <tr style=\"text-align: right;\">\n",
       "      <th></th>\n",
       "      <th>Form</th>\n",
       "      <th>Ashwagandha</th>\n",
       "      <th>Triphala</th>\n",
       "      <th>Amalaki</th>\n",
       "      <th>Haritaki</th>\n",
       "      <th>Bibhitaki</th>\n",
       "      <th>Neem</th>\n",
       "      <th>Tulsi</th>\n",
       "      <th>Brahmi</th>\n",
       "      <th>Shankhpushpi</th>\n",
       "      <th>...</th>\n",
       "      <th>KaunchBeej</th>\n",
       "      <th>Palash</th>\n",
       "      <th>Agarwood</th>\n",
       "      <th>Chitrak</th>\n",
       "      <th>Proportion_Others</th>\n",
       "      <th>Price</th>\n",
       "      <th>Dosage(g)</th>\n",
       "      <th>Shelf_Life(months)</th>\n",
       "      <th>Preparation_Method</th>\n",
       "      <th>Speciality</th>\n",
       "    </tr>\n",
       "  </thead>\n",
       "  <tbody>\n",
       "    <tr>\n",
       "      <th>76</th>\n",
       "      <td>1</td>\n",
       "      <td>0.02</td>\n",
       "      <td>0.03</td>\n",
       "      <td>0.01</td>\n",
       "      <td>0.01</td>\n",
       "      <td>0.00</td>\n",
       "      <td>0.04</td>\n",
       "      <td>0.03</td>\n",
       "      <td>0.01</td>\n",
       "      <td>0.02</td>\n",
       "      <td>...</td>\n",
       "      <td>0.02</td>\n",
       "      <td>0.02</td>\n",
       "      <td>0.00</td>\n",
       "      <td>0.00</td>\n",
       "      <td>0.10</td>\n",
       "      <td>197</td>\n",
       "      <td>0.47</td>\n",
       "      <td>24</td>\n",
       "      <td>0</td>\n",
       "      <td>Respiratory Health</td>\n",
       "    </tr>\n",
       "    <tr>\n",
       "      <th>634</th>\n",
       "      <td>4</td>\n",
       "      <td>0.02</td>\n",
       "      <td>0.03</td>\n",
       "      <td>0.02</td>\n",
       "      <td>0.03</td>\n",
       "      <td>0.01</td>\n",
       "      <td>0.03</td>\n",
       "      <td>0.01</td>\n",
       "      <td>0.01</td>\n",
       "      <td>0.02</td>\n",
       "      <td>...</td>\n",
       "      <td>0.03</td>\n",
       "      <td>0.01</td>\n",
       "      <td>0.02</td>\n",
       "      <td>0.01</td>\n",
       "      <td>0.13</td>\n",
       "      <td>895</td>\n",
       "      <td>0.29</td>\n",
       "      <td>24</td>\n",
       "      <td>4</td>\n",
       "      <td>Kidney Care</td>\n",
       "    </tr>\n",
       "    <tr>\n",
       "      <th>392</th>\n",
       "      <td>0</td>\n",
       "      <td>0.02</td>\n",
       "      <td>0.01</td>\n",
       "      <td>0.01</td>\n",
       "      <td>0.02</td>\n",
       "      <td>0.03</td>\n",
       "      <td>0.02</td>\n",
       "      <td>0.01</td>\n",
       "      <td>0.02</td>\n",
       "      <td>0.00</td>\n",
       "      <td>...</td>\n",
       "      <td>0.03</td>\n",
       "      <td>0.01</td>\n",
       "      <td>0.02</td>\n",
       "      <td>0.03</td>\n",
       "      <td>0.11</td>\n",
       "      <td>914</td>\n",
       "      <td>0.59</td>\n",
       "      <td>12</td>\n",
       "      <td>2</td>\n",
       "      <td>Memory &amp; Cognition</td>\n",
       "    </tr>\n",
       "    <tr>\n",
       "      <th>765</th>\n",
       "      <td>2</td>\n",
       "      <td>0.02</td>\n",
       "      <td>0.00</td>\n",
       "      <td>0.01</td>\n",
       "      <td>0.04</td>\n",
       "      <td>0.00</td>\n",
       "      <td>0.01</td>\n",
       "      <td>0.04</td>\n",
       "      <td>0.01</td>\n",
       "      <td>0.01</td>\n",
       "      <td>...</td>\n",
       "      <td>0.02</td>\n",
       "      <td>0.04</td>\n",
       "      <td>0.02</td>\n",
       "      <td>0.00</td>\n",
       "      <td>0.09</td>\n",
       "      <td>885</td>\n",
       "      <td>0.59</td>\n",
       "      <td>18</td>\n",
       "      <td>0</td>\n",
       "      <td>Stress &amp; Anxiety</td>\n",
       "    </tr>\n",
       "    <tr>\n",
       "      <th>859</th>\n",
       "      <td>0</td>\n",
       "      <td>0.02</td>\n",
       "      <td>0.02</td>\n",
       "      <td>0.01</td>\n",
       "      <td>0.01</td>\n",
       "      <td>0.01</td>\n",
       "      <td>0.02</td>\n",
       "      <td>0.02</td>\n",
       "      <td>0.01</td>\n",
       "      <td>0.00</td>\n",
       "      <td>...</td>\n",
       "      <td>0.01</td>\n",
       "      <td>0.01</td>\n",
       "      <td>0.02</td>\n",
       "      <td>0.02</td>\n",
       "      <td>0.12</td>\n",
       "      <td>354</td>\n",
       "      <td>0.28</td>\n",
       "      <td>18</td>\n",
       "      <td>3</td>\n",
       "      <td>Kidney Care</td>\n",
       "    </tr>\n",
       "    <tr>\n",
       "      <th>...</th>\n",
       "      <td>...</td>\n",
       "      <td>...</td>\n",
       "      <td>...</td>\n",
       "      <td>...</td>\n",
       "      <td>...</td>\n",
       "      <td>...</td>\n",
       "      <td>...</td>\n",
       "      <td>...</td>\n",
       "      <td>...</td>\n",
       "      <td>...</td>\n",
       "      <td>...</td>\n",
       "      <td>...</td>\n",
       "      <td>...</td>\n",
       "      <td>...</td>\n",
       "      <td>...</td>\n",
       "      <td>...</td>\n",
       "      <td>...</td>\n",
       "      <td>...</td>\n",
       "      <td>...</td>\n",
       "      <td>...</td>\n",
       "      <td>...</td>\n",
       "    </tr>\n",
       "    <tr>\n",
       "      <th>922</th>\n",
       "      <td>0</td>\n",
       "      <td>0.01</td>\n",
       "      <td>0.03</td>\n",
       "      <td>0.03</td>\n",
       "      <td>0.00</td>\n",
       "      <td>0.02</td>\n",
       "      <td>0.03</td>\n",
       "      <td>0.02</td>\n",
       "      <td>0.01</td>\n",
       "      <td>0.03</td>\n",
       "      <td>...</td>\n",
       "      <td>0.02</td>\n",
       "      <td>0.02</td>\n",
       "      <td>0.02</td>\n",
       "      <td>0.02</td>\n",
       "      <td>0.13</td>\n",
       "      <td>264</td>\n",
       "      <td>0.58</td>\n",
       "      <td>18</td>\n",
       "      <td>3</td>\n",
       "      <td>Skin Disorders</td>\n",
       "    </tr>\n",
       "    <tr>\n",
       "      <th>755</th>\n",
       "      <td>3</td>\n",
       "      <td>0.01</td>\n",
       "      <td>0.02</td>\n",
       "      <td>0.00</td>\n",
       "      <td>0.03</td>\n",
       "      <td>0.03</td>\n",
       "      <td>0.03</td>\n",
       "      <td>0.02</td>\n",
       "      <td>0.01</td>\n",
       "      <td>0.03</td>\n",
       "      <td>...</td>\n",
       "      <td>0.03</td>\n",
       "      <td>0.01</td>\n",
       "      <td>0.00</td>\n",
       "      <td>0.03</td>\n",
       "      <td>0.11</td>\n",
       "      <td>807</td>\n",
       "      <td>0.44</td>\n",
       "      <td>36</td>\n",
       "      <td>2</td>\n",
       "      <td>Women's Health</td>\n",
       "    </tr>\n",
       "    <tr>\n",
       "      <th>398</th>\n",
       "      <td>0</td>\n",
       "      <td>0.01</td>\n",
       "      <td>0.03</td>\n",
       "      <td>0.02</td>\n",
       "      <td>0.03</td>\n",
       "      <td>0.00</td>\n",
       "      <td>0.03</td>\n",
       "      <td>0.01</td>\n",
       "      <td>0.03</td>\n",
       "      <td>0.01</td>\n",
       "      <td>...</td>\n",
       "      <td>0.02</td>\n",
       "      <td>0.01</td>\n",
       "      <td>0.01</td>\n",
       "      <td>0.01</td>\n",
       "      <td>0.12</td>\n",
       "      <td>115</td>\n",
       "      <td>0.49</td>\n",
       "      <td>18</td>\n",
       "      <td>3</td>\n",
       "      <td>Joint Pain Relief</td>\n",
       "    </tr>\n",
       "    <tr>\n",
       "      <th>678</th>\n",
       "      <td>3</td>\n",
       "      <td>0.03</td>\n",
       "      <td>0.02</td>\n",
       "      <td>0.03</td>\n",
       "      <td>0.02</td>\n",
       "      <td>0.01</td>\n",
       "      <td>0.02</td>\n",
       "      <td>0.00</td>\n",
       "      <td>0.00</td>\n",
       "      <td>0.03</td>\n",
       "      <td>...</td>\n",
       "      <td>0.02</td>\n",
       "      <td>0.02</td>\n",
       "      <td>0.01</td>\n",
       "      <td>0.01</td>\n",
       "      <td>0.12</td>\n",
       "      <td>885</td>\n",
       "      <td>0.36</td>\n",
       "      <td>36</td>\n",
       "      <td>0</td>\n",
       "      <td>Memory &amp; Cognition</td>\n",
       "    </tr>\n",
       "    <tr>\n",
       "      <th>378</th>\n",
       "      <td>5</td>\n",
       "      <td>0.04</td>\n",
       "      <td>0.00</td>\n",
       "      <td>0.03</td>\n",
       "      <td>0.01</td>\n",
       "      <td>0.02</td>\n",
       "      <td>0.03</td>\n",
       "      <td>0.01</td>\n",
       "      <td>0.03</td>\n",
       "      <td>0.02</td>\n",
       "      <td>...</td>\n",
       "      <td>0.03</td>\n",
       "      <td>0.01</td>\n",
       "      <td>0.02</td>\n",
       "      <td>0.00</td>\n",
       "      <td>0.13</td>\n",
       "      <td>664</td>\n",
       "      <td>0.30</td>\n",
       "      <td>12</td>\n",
       "      <td>2</td>\n",
       "      <td>Hair &amp; Scalp Care</td>\n",
       "    </tr>\n",
       "  </tbody>\n",
       "</table>\n",
       "<p>800 rows × 57 columns</p>\n",
       "</div>"
      ],
      "text/plain": [
       "     Form  Ashwagandha  Triphala  Amalaki  Haritaki  Bibhitaki  Neem  Tulsi  \\\n",
       "76      1         0.02      0.03     0.01      0.01       0.00  0.04   0.03   \n",
       "634     4         0.02      0.03     0.02      0.03       0.01  0.03   0.01   \n",
       "392     0         0.02      0.01     0.01      0.02       0.03  0.02   0.01   \n",
       "765     2         0.02      0.00     0.01      0.04       0.00  0.01   0.04   \n",
       "859     0         0.02      0.02     0.01      0.01       0.01  0.02   0.02   \n",
       "..    ...          ...       ...      ...       ...        ...   ...    ...   \n",
       "922     0         0.01      0.03     0.03      0.00       0.02  0.03   0.02   \n",
       "755     3         0.01      0.02     0.00      0.03       0.03  0.03   0.02   \n",
       "398     0         0.01      0.03     0.02      0.03       0.00  0.03   0.01   \n",
       "678     3         0.03      0.02     0.03      0.02       0.01  0.02   0.00   \n",
       "378     5         0.04      0.00     0.03      0.01       0.02  0.03   0.01   \n",
       "\n",
       "     Brahmi  Shankhpushpi  ...  KaunchBeej  Palash  Agarwood  Chitrak  \\\n",
       "76     0.01          0.02  ...        0.02    0.02      0.00     0.00   \n",
       "634    0.01          0.02  ...        0.03    0.01      0.02     0.01   \n",
       "392    0.02          0.00  ...        0.03    0.01      0.02     0.03   \n",
       "765    0.01          0.01  ...        0.02    0.04      0.02     0.00   \n",
       "859    0.01          0.00  ...        0.01    0.01      0.02     0.02   \n",
       "..      ...           ...  ...         ...     ...       ...      ...   \n",
       "922    0.01          0.03  ...        0.02    0.02      0.02     0.02   \n",
       "755    0.01          0.03  ...        0.03    0.01      0.00     0.03   \n",
       "398    0.03          0.01  ...        0.02    0.01      0.01     0.01   \n",
       "678    0.00          0.03  ...        0.02    0.02      0.01     0.01   \n",
       "378    0.03          0.02  ...        0.03    0.01      0.02     0.00   \n",
       "\n",
       "     Proportion_Others  Price  Dosage(g)  Shelf_Life(months)  \\\n",
       "76                0.10    197       0.47                  24   \n",
       "634               0.13    895       0.29                  24   \n",
       "392               0.11    914       0.59                  12   \n",
       "765               0.09    885       0.59                  18   \n",
       "859               0.12    354       0.28                  18   \n",
       "..                 ...    ...        ...                 ...   \n",
       "922               0.13    264       0.58                  18   \n",
       "755               0.11    807       0.44                  36   \n",
       "398               0.12    115       0.49                  18   \n",
       "678               0.12    885       0.36                  36   \n",
       "378               0.13    664       0.30                  12   \n",
       "\n",
       "     Preparation_Method          Speciality  \n",
       "76                    0  Respiratory Health  \n",
       "634                   4         Kidney Care  \n",
       "392                   2  Memory & Cognition  \n",
       "765                   0    Stress & Anxiety  \n",
       "859                   3         Kidney Care  \n",
       "..                  ...                 ...  \n",
       "922                   3      Skin Disorders  \n",
       "755                   2      Women's Health  \n",
       "398                   3   Joint Pain Relief  \n",
       "678                   0  Memory & Cognition  \n",
       "378                   2   Hair & Scalp Care  \n",
       "\n",
       "[800 rows x 57 columns]"
      ]
     },
     "execution_count": 193,
     "metadata": {},
     "output_type": "execute_result"
    }
   ],
   "source": [
    "train_data"
   ]
  },
  {
   "cell_type": "code",
   "execution_count": 194,
   "id": "41ed169f",
   "metadata": {},
   "outputs": [
    {
     "data": {
      "text/plain": [
       "Speciality\n",
       "Diabetes Management    70\n",
       "Immunity Booster       66\n",
       "Hair & Scalp Care      66\n",
       "Cardiac Health         57\n",
       "Memory & Cognition     56\n",
       "Stress & Anxiety       54\n",
       "Weight Loss            54\n",
       "Joint Pain Relief      52\n",
       "Kidney Care            52\n",
       "Respiratory Health     52\n",
       "Skin Disorders         52\n",
       "Digestive Cleanser     43\n",
       "Liver Detox            43\n",
       "Anti-Inflammatory      42\n",
       "Women's Health         41\n",
       "Name: count, dtype: int64"
      ]
     },
     "execution_count": 194,
     "metadata": {},
     "output_type": "execute_result"
    }
   ],
   "source": [
    "train_data[\"Speciality\"].value_counts()"
   ]
  },
  {
   "cell_type": "code",
   "execution_count": 195,
   "id": "f901a67c",
   "metadata": {},
   "outputs": [
    {
     "data": {
      "text/plain": [
       "Speciality\n",
       "Diabetes Management    18\n",
       "Hair & Scalp Care      17\n",
       "Immunity Booster       16\n",
       "Cardiac Health         15\n",
       "Memory & Cognition     14\n",
       "Stress & Anxiety       13\n",
       "Weight Loss            13\n",
       "Respiratory Health     13\n",
       "Skin Disorders         13\n",
       "Joint Pain Relief      13\n",
       "Kidney Care            13\n",
       "Digestive Cleanser     11\n",
       "Liver Detox            11\n",
       "Anti-Inflammatory      10\n",
       "Women's Health         10\n",
       "Name: count, dtype: int64"
      ]
     },
     "execution_count": 195,
     "metadata": {},
     "output_type": "execute_result"
    }
   ],
   "source": [
    "test_data[\"Speciality\"].value_counts()"
   ]
  },
  {
   "cell_type": "code",
   "execution_count": 196,
   "id": "2335cdb5",
   "metadata": {},
   "outputs": [
    {
     "name": "stderr",
     "output_type": "stream",
     "text": [
      "C:\\Users\\SOUMYOJEET\\AppData\\Local\\Temp\\ipykernel_16776\\2715635067.py:5: SettingWithCopyWarning: \n",
      "A value is trying to be set on a copy of a slice from a DataFrame\n",
      "\n",
      "See the caveats in the documentation: https://pandas.pydata.org/pandas-docs/stable/user_guide/indexing.html#returning-a-view-versus-a-copy\n",
      "  train_data.drop([\"Speciality\"], axis=1, inplace=True)\n",
      "C:\\Users\\SOUMYOJEET\\AppData\\Local\\Temp\\ipykernel_16776\\2715635067.py:6: SettingWithCopyWarning: \n",
      "A value is trying to be set on a copy of a slice from a DataFrame\n",
      "\n",
      "See the caveats in the documentation: https://pandas.pydata.org/pandas-docs/stable/user_guide/indexing.html#returning-a-view-versus-a-copy\n",
      "  test_data.drop([\"Speciality\"], axis=1, inplace=True)\n"
     ]
    },
    {
     "data": {
      "text/plain": [
       "76     Respiratory Health\n",
       "634           Kidney Care\n",
       "392    Memory & Cognition\n",
       "765      Stress & Anxiety\n",
       "859           Kidney Care\n",
       "              ...        \n",
       "922        Skin Disorders\n",
       "755        Women's Health\n",
       "398     Joint Pain Relief\n",
       "678    Memory & Cognition\n",
       "378     Hair & Scalp Care\n",
       "Name: Speciality, Length: 800, dtype: object"
      ]
     },
     "execution_count": 196,
     "metadata": {},
     "output_type": "execute_result"
    }
   ],
   "source": [
    "# separating labels and data\n",
    "train_labels = train_data[\"Speciality\"].copy()\n",
    "test_labels = test_data[\"Speciality\"].copy()\n",
    "\n",
    "train_data.drop([\"Speciality\"], axis=1, inplace=True)\n",
    "test_data.drop([\"Speciality\"], axis=1, inplace=True)\n",
    "train_labels"
   ]
  },
  {
   "cell_type": "code",
   "execution_count": 197,
   "id": "dda9cf03",
   "metadata": {},
   "outputs": [
    {
     "data": {
      "text/plain": [
       "(Index(['Form', 'Ashwagandha', 'Triphala', 'Amalaki', 'Haritaki', 'Bibhitaki',\n",
       "        'Neem', 'Tulsi', 'Brahmi', 'Shankhpushpi', 'Turmeric', 'Ginger',\n",
       "        'Garlic', 'Clove', 'Cardamom', 'Cinnamon', 'Pepper', 'Licorice',\n",
       "        'Guduchi', 'Shatavari', 'AloeVera', 'Moringa', 'Fenugreek', 'Cumin',\n",
       "        'Coriander', 'Mustard', 'Saffron', 'Nutmeg', 'Fennel', 'Camphor',\n",
       "        'Jatamansi', 'Kesar', 'Pippali', 'Punarnava', 'Arjuna', 'Guggulu',\n",
       "        'Manjistha', 'Kalonji', 'Baheda', 'Giloy', 'Daruharidra', 'Vidanga',\n",
       "        'Hibiscus', 'AmlaOil', 'Ashoka', 'Bhringraj', 'SafedMusli',\n",
       "        'KaunchBeej', 'Palash', 'Agarwood', 'Chitrak', 'Proportion_Others',\n",
       "        'Price', 'Dosage(g)', 'Shelf_Life(months)', 'Preparation_Method'],\n",
       "       dtype='object'),\n",
       " Index(['Form', 'Ashwagandha', 'Triphala', 'Amalaki', 'Haritaki', 'Bibhitaki',\n",
       "        'Neem', 'Tulsi', 'Brahmi', 'Shankhpushpi', 'Turmeric', 'Ginger',\n",
       "        'Garlic', 'Clove', 'Cardamom', 'Cinnamon', 'Pepper', 'Licorice',\n",
       "        'Guduchi', 'Shatavari', 'AloeVera', 'Moringa', 'Fenugreek', 'Cumin',\n",
       "        'Coriander', 'Mustard', 'Saffron', 'Nutmeg', 'Fennel', 'Camphor',\n",
       "        'Jatamansi', 'Kesar', 'Pippali', 'Punarnava', 'Arjuna', 'Guggulu',\n",
       "        'Manjistha', 'Kalonji', 'Baheda', 'Giloy', 'Daruharidra', 'Vidanga',\n",
       "        'Hibiscus', 'AmlaOil', 'Ashoka', 'Bhringraj', 'SafedMusli',\n",
       "        'KaunchBeej', 'Palash', 'Agarwood', 'Chitrak', 'Proportion_Others',\n",
       "        'Price', 'Dosage(g)', 'Shelf_Life(months)', 'Preparation_Method'],\n",
       "       dtype='object'))"
      ]
     },
     "execution_count": 197,
     "metadata": {},
     "output_type": "execute_result"
    }
   ],
   "source": [
    "test_data.columns, train_data.columns"
   ]
  },
  {
   "cell_type": "markdown",
   "id": "a6c93094",
   "metadata": {},
   "source": [
    "## ***Speciality of the product prediction (KNN Classification)***"
   ]
  },
  {
   "cell_type": "code",
   "execution_count": 198,
   "id": "d6d8a9dd",
   "metadata": {},
   "outputs": [],
   "source": [
    "from sklearn.neighbors import KNeighborsClassifier\n",
    "from sklearn.model_selection import  cross_val_score"
   ]
  },
  {
   "cell_type": "code",
   "execution_count": 213,
   "id": "416d3c75",
   "metadata": {},
   "outputs": [],
   "source": [
    "# frequently used functions\n",
    "\n",
    "def visualise_test_train_score(ks, train_scores, test_scores):\n",
    "    plt.plot(ks, train_scores, marker='*', c='g')\n",
    "    plt.plot(ks, test_scores, marker='o', c= 'r')\n",
    "    plt.ylabel(\"Scores\")\n",
    "    plt.xlabel(\"K\")\n",
    "    plt.title(\"Elbow detection for best K\")\n",
    "    plt.show()\n",
    "\n",
    "def predict_classes (pred_proba, classes):\n",
    "    pred_proba = pred_proba.flatten()\n",
    "    sorted_indx = np.argsort(pred_proba)[::-1]\n",
    "    sorted_pred_proba = pred_proba[sorted_indx]\n",
    "    probs_labels = [list(classes)[id] for id in sorted_indx if pred_proba[id] > 0]\n",
    "    return probs_labels\n"
   ]
  },
  {
   "cell_type": "code",
   "execution_count": 200,
   "id": "93a2d91f",
   "metadata": {},
   "outputs": [],
   "source": [
    "# finding best k\n",
    "train_scores = []\n",
    "test_scores = []\n",
    "ks = []\n",
    "\n",
    "for k in range (2, 20):\n",
    "    temp_clf = KNeighborsClassifier(n_neighbors=k).fit(train_data, train_labels)\n",
    "    train_scores.append(temp_clf.score(train_data, train_labels))\n",
    "    test_scores.append(temp_clf.score(test_data, test_labels))\n",
    "    ks.append(k)"
   ]
  },
  {
   "cell_type": "code",
   "execution_count": 201,
   "id": "8e7809d1",
   "metadata": {},
   "outputs": [
    {
     "data": {
      "image/png": "[encoded data removed]",
      "text/plain": [
       "<Figure size 640x480 with 1 Axes>"
      ]
     },
     "metadata": {},
     "output_type": "display_data"
    }
   ],
   "source": [
    "visualise_test_train_score(ks, train_scores, test_scores)"
   ]
  },
  {
   "cell_type": "code",
   "execution_count": 202,
   "id": "0cc3b46b",
   "metadata": {},
   "outputs": [],
   "source": [
    "# Cross validation scoring\n",
    "cross_scores = []\n",
    "ks = []\n",
    "\n",
    "for k in range(2, 20):\n",
    "    # initiating a k nn model\n",
    "    clf = KNeighborsClassifier(n_neighbors=k)\n",
    "\n",
    "    \n",
    "    cvs = cross_val_score(clf, train_data, train_labels, cv=5)\n",
    "    cross_scores.append(cvs.mean())\n",
    "    \n",
    "    # storing corressponding ks\n",
    "    ks.append(k)"
   ]
  },
  {
   "cell_type": "code",
   "execution_count": 203,
   "id": "82494fb8",
   "metadata": {},
   "outputs": [
    {
     "data": {
      "text/plain": [
       "[np.float64(0.09),\n",
       " np.float64(0.08249999999999999),\n",
       " np.float64(0.075),\n",
       " np.float64(0.08625000000000001),\n",
       " np.float64(0.08499999999999999),\n",
       " np.float64(0.09125000000000001),\n",
       " np.float64(0.1),\n",
       " np.float64(0.10124999999999999),\n",
       " np.float64(0.095),\n",
       " np.float64(0.0925),\n",
       " np.float64(0.09624999999999999),\n",
       " np.float64(0.07875),\n",
       " np.float64(0.07625),\n",
       " np.float64(0.08125),\n",
       " np.float64(0.08125),\n",
       " np.float64(0.08375),\n",
       " np.float64(0.08875000000000001),\n",
       " np.float64(0.08499999999999999)]"
      ]
     },
     "execution_count": 203,
     "metadata": {},
     "output_type": "execute_result"
    }
   ],
   "source": [
    "cross_scores"
   ]
  },
  {
   "cell_type": "code",
   "execution_count": 204,
   "id": "2cb93ac1",
   "metadata": {},
   "outputs": [
    {
     "data": {
      "image/png": "[encoded data removed]",
      "text/plain": [
       "<Figure size 640x480 with 1 Axes>"
      ]
     },
     "metadata": {},
     "output_type": "display_data"
    }
   ],
   "source": [
    "plt.plot(ks, cross_scores, marker='o', c= 'g')\n",
    "plt.ylabel(\"Scores\")\n",
    "plt.xlabel(\"K\")\n",
    "plt.title(\"Cross Validation for best K\")\n",
    "plt.show()"
   ]
  },
  {
   "cell_type": "markdown",
   "id": "97938fd3",
   "metadata": {},
   "source": [
    "` From the plots we can conclude 9 is better fit `"
   ]
  },
  {
   "cell_type": "code",
   "execution_count": 205,
   "id": "afec4fc3",
   "metadata": {},
   "outputs": [],
   "source": [
    "clf = KNeighborsClassifier(n_neighbors=9).fit(train_data, train_labels)"
   ]
  },
  {
   "cell_type": "code",
   "execution_count": 206,
   "id": "ce9f8bf5",
   "metadata": {},
   "outputs": [
    {
     "data": {
      "text/plain": [
       "array(['Anti-Inflammatory', 'Cardiac Health', 'Diabetes Management',\n",
       "       'Digestive Cleanser', 'Hair & Scalp Care', 'Immunity Booster',\n",
       "       'Joint Pain Relief', 'Kidney Care', 'Liver Detox',\n",
       "       'Memory & Cognition', 'Respiratory Health', 'Skin Disorders',\n",
       "       'Stress & Anxiety', 'Weight Loss', \"Women's Health\"], dtype=object)"
      ]
     },
     "execution_count": 206,
     "metadata": {},
     "output_type": "execute_result"
    }
   ],
   "source": [
    "clf.classes_"
   ]
  },
  {
   "cell_type": "code",
   "execution_count": 221,
   "id": "93bb249b",
   "metadata": {},
   "outputs": [
    {
     "data": {
      "text/plain": [
       "array([[0.        , 0.11111111, 0.11111111, 0.11111111, 0.33333333,\n",
       "        0.11111111, 0.        , 0.        , 0.        , 0.11111111,\n",
       "        0.        , 0.        , 0.        , 0.        , 0.11111111]])"
      ]
     },
     "execution_count": 221,
     "metadata": {},
     "output_type": "execute_result"
    }
   ],
   "source": [
    "predict_probas = clf.predict_proba(test_data.iloc[43:44])\n",
    "predict_probas"
   ]
  },
  {
   "cell_type": "code",
   "execution_count": 208,
   "id": "8db1c94f",
   "metadata": {},
   "outputs": [
    {
     "data": {
      "text/plain": [
       "array(['Stress & Anxiety', 'Cardiac Health', 'Hair & Scalp Care',\n",
       "       'Hair & Scalp Care', 'Memory & Cognition'], dtype=object)"
      ]
     },
     "execution_count": 208,
     "metadata": {},
     "output_type": "execute_result"
    }
   ],
   "source": [
    "preds = clf.predict(test_data.iloc[40:45])\n",
    "preds"
   ]
  },
  {
   "cell_type": "code",
   "execution_count": 209,
   "id": "8739adef",
   "metadata": {},
   "outputs": [
    {
     "data": {
      "text/plain": [
       "224    Diabetes Management\n",
       "946         Women's Health\n",
       "293         Women's Health\n",
       "928      Hair & Scalp Care\n",
       "798            Weight Loss\n",
       "Name: Speciality, dtype: object"
      ]
     },
     "execution_count": 209,
     "metadata": {},
     "output_type": "execute_result"
    }
   ],
   "source": [
    "test_labels[40:45]"
   ]
  },
  {
   "cell_type": "code",
   "execution_count": 222,
   "id": "d372426a",
   "metadata": {},
   "outputs": [
    {
     "data": {
      "text/plain": [
       "['Hair & Scalp Care',\n",
       " 'Memory & Cognition',\n",
       " \"Women's Health\",\n",
       " 'Digestive Cleanser',\n",
       " 'Diabetes Management',\n",
       " 'Immunity Booster',\n",
       " 'Cardiac Health']"
      ]
     },
     "execution_count": 222,
     "metadata": {},
     "output_type": "execute_result"
    }
   ],
   "source": [
    "result = predict_classes(predict_probas, clf.classes_)\n",
    "result"
   ]
  },
  {
   "cell_type": "code",
   "execution_count": null,
   "id": "90849d19",
   "metadata": {},
   "outputs": [],
   "source": []
  }
 ],
 "metadata": {
  "kernelspec": {
   "display_name": "base",
   "language": "python",
   "name": "python3"
  },
  "language_info": {
   "codemirror_mode": {
    "name": "ipython",
    "version": 3
   },
   "file_extension": ".py",
   "mimetype": "text/x-python",
   "name": "python",
   "nbconvert_exporter": "python",
   "pygments_lexer": "ipython3",
   "version": "3.13.5"
  }
 },
 "nbformat": 4,
 "nbformat_minor": 5
}
